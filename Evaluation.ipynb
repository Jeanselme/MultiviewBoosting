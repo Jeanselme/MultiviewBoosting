{
 "cells": [
  {
   "cell_type": "markdown",
   "metadata": {},
   "source": [
    "This experiments on MNIST by creating multiple views of the dataset.\n",
    "\n",
    "As the paper deals with binary classification, we use digits 0 to 4 in class 0 and 5 to 9 in class 1"
   ]
  },
  {
   "cell_type": "code",
   "execution_count": 13,
   "metadata": {},
   "outputs": [],
   "source": [
    "import pandas as pd\n",
    "import numpy as np\n",
    "\n",
    "from scipy.signal import convolve2d\n",
    "from scipy.fft import ifftn\n",
    "\n",
    "from sklearn.model_selection import cross_val_score\n",
    "from sklearn.tree import DecisionTreeClassifier\n",
    "from sklearn.ensemble import AdaBoostClassifier \n",
    "\n",
    "from models.boostSH import BoostSH\n",
    "from models.rboostSH import RBoostSH"
   ]
  },
  {
   "cell_type": "markdown",
   "metadata": {},
   "source": [
    "# Extract features on dataset"
   ]
  },
  {
   "cell_type": "markdown",
   "metadata": {},
   "source": [
    "The paper compute features on only a subset of the data by extracting 100 datapoints for each set"
   ]
  },
  {
   "cell_type": "code",
   "execution_count": 2,
   "metadata": {},
   "outputs": [],
   "source": [
    "from sklearn.datasets import load_digits"
   ]
  },
  {
   "cell_type": "code",
   "execution_count": 3,
   "metadata": {},
   "outputs": [],
   "source": [
    "data, target = load_digits(return_X_y = True)\n",
    "data = pd.DataFrame(data)\n",
    "target = pd.Series(target)"
   ]
  },
  {
   "cell_type": "markdown",
   "metadata": {},
   "source": [
    "### Labels"
   ]
  },
  {
   "cell_type": "code",
   "execution_count": 4,
   "metadata": {},
   "outputs": [],
   "source": [
    "# Transform labels\n",
    "target = target > 4"
   ]
  },
  {
   "cell_type": "markdown",
   "metadata": {},
   "source": [
    "### Subset selection"
   ]
  },
  {
   "cell_type": "code",
   "execution_count": 5,
   "metadata": {},
   "outputs": [],
   "source": [
    "keep = []\n",
    "for c in target.unique():\n",
    "    keep += target[target == c].sample(100).index.tolist()\n",
    "np.random.shuffle(keep)"
   ]
  },
  {
   "cell_type": "code",
   "execution_count": 6,
   "metadata": {},
   "outputs": [],
   "source": [
    "data, target = data.loc[keep], target.loc[keep]"
   ]
  },
  {
   "cell_type": "markdown",
   "metadata": {},
   "source": [
    "### Computation views"
   ]
  },
  {
   "cell_type": "markdown",
   "metadata": {},
   "source": [
    "6 views are computed in the paper\n",
    "- Fourier coefficient\n",
    "- Correlations\n",
    "- Average 2 x 3 window\n",
    "- Zernike moments\n",
    "- Morphological features\n",
    "- Karhunen coefficient\n",
    "\n",
    "We focus on only the three first as we didn't find standard implementation of those methods"
   ]
  },
  {
   "cell_type": "code",
   "execution_count": 7,
   "metadata": {},
   "outputs": [],
   "source": [
    "views = {'original': data}\n",
    "images = data.values.reshape([-1, 8, 8])"
   ]
  },
  {
   "cell_type": "code",
   "execution_count": 8,
   "metadata": {},
   "outputs": [],
   "source": [
    "views['Fourier'] = pd.DataFrame([np.real(ifftn(i)).flatten() for i in images],\n",
    "                                     index = data.index).fillna(1)"
   ]
  },
  {
   "cell_type": "code",
   "execution_count": 9,
   "metadata": {},
   "outputs": [
    {
     "name": "stderr",
     "output_type": "stream",
     "text": [
      "/home/vincent/miniconda3/lib/python3.7/site-packages/numpy/lib/function_base.py:2534: RuntimeWarning: invalid value encountered in true_divide\n",
      "  c /= stddev[:, None]\n",
      "/home/vincent/miniconda3/lib/python3.7/site-packages/numpy/lib/function_base.py:2535: RuntimeWarning: invalid value encountered in true_divide\n",
      "  c /= stddev[None, :]\n"
     ]
    }
   ],
   "source": [
    "views['Correlations'] = pd.DataFrame([np.concatenate([np.corrcoef(i)[np.triu_indices(8, 1)],\n",
    "                                                      np.corrcoef(i.T)[np.triu_indices(8, 1)]]) for i in images],\n",
    "                                     index = data.index).fillna(1)"
   ]
  },
  {
   "cell_type": "code",
   "execution_count": 10,
   "metadata": {},
   "outputs": [],
   "source": [
    "views['Convolution'] = pd.DataFrame([convolve2d(i, np.ones((2, 3)), 'valid').flatten() for i in images],\n",
    "                                     index = data.index).fillna(1)"
   ]
  },
  {
   "cell_type": "markdown",
   "metadata": {},
   "source": [
    "# Experiment"
   ]
  },
  {
   "cell_type": "code",
   "execution_count": 11,
   "metadata": {},
   "outputs": [],
   "source": [
    "cv = 30"
   ]
  },
  {
   "cell_type": "markdown",
   "metadata": {},
   "source": [
    "### Evaluation each view"
   ]
  },
  {
   "cell_type": "code",
   "execution_count": 12,
   "metadata": {},
   "outputs": [
    {
     "name": "stdout",
     "output_type": "stream",
     "text": [
      "View original achieves 0.76 (0.70 - 0.83) AUC\n",
      "View Fourier achieves 0.74 (0.68 - 0.80) AUC\n",
      "View Correlations achieves 0.81 (0.77 - 0.86) AUC\n",
      "View Convolution achieves 0.79 (0.74 - 0.84) AUC\n"
     ]
    }
   ],
   "source": [
    "for v in views:\n",
    "    score = cross_val_score(AdaBoostClassifier(DecisionTreeClassifier(), n_estimators = 100), views[v], target, cv = cv, scoring = 'roc_auc')\n",
    "    mean, ci = np.mean(score), 1.96 * np.std(score) / np.sqrt(cv) \n",
    "    print(\"View {} achieves {:.2f} ({:.2f} - {:.2f}) AUC\".format(v, mean, mean - ci, mean + ci))"
   ]
  },
  {
   "cell_type": "markdown",
   "metadata": {},
   "source": [
    "### Early fusion"
   ]
  },
  {
   "cell_type": "code",
   "execution_count": 13,
   "metadata": {},
   "outputs": [
    {
     "name": "stdout",
     "output_type": "stream",
     "text": [
      "View Convolution achieves 0.90 (0.86 - 0.93) AUC\n"
     ]
    }
   ],
   "source": [
    "score = cross_val_score(AdaBoostClassifier(DecisionTreeClassifier(), n_estimators = 100), pd.concat(views, axis = 'columns'), target, cv = cv, scoring = 'roc_auc')\n",
    "mean, ci = np.mean(score), 1.96 * np.std(score) / np.sqrt(cv) \n",
    "print(\"Early fusion achieves {:.2f} ({:.2f} - {:.2f}) AUC\".format(mean, mean - ci, mean + ci))"
   ]
  },
  {
   "cell_type": "markdown",
   "metadata": {},
   "source": [
    "### Algorithms"
   ]
  },
  {
   "cell_type": "markdown",
   "metadata": {},
   "source": [
    "#### Boost.SH"
   ]
  },
  {
   "cell_type": "code",
   "execution_count": 14,
   "metadata": {},
   "outputs": [
    {
     "name": "stdout",
     "output_type": "stream",
     "text": [
      "Boost.SH achieves 0.94 (0.90 - 0.97) AUC\n",
      "CPU times: user 7min 12s, sys: 78.6 ms, total: 7min 12s\n",
      "Wall time: 7min 12s\n"
     ]
    }
   ],
   "source": [
    "%%time\n",
    "score = cross_val_score(BoostSH(DecisionTreeClassifier(), views, 100), views['original'], target, cv = cv, scoring = 'roc_auc', fit_params = {'edge_estimation_cv': 5})\n",
    "mean, ci = np.mean(score), 1.96 * np.std(score) / np.sqrt(cv) \n",
    "print(\"Boost.SH achieves {:.2f} ({:.2f} - {:.2f}) AUC\".format(mean, mean - ci, mean + ci))"
   ]
  },
  {
   "cell_type": "markdown",
   "metadata": {},
   "source": [
    "#### rBoost.SH"
   ]
  },
  {
   "cell_type": "code",
   "execution_count": 37,
   "metadata": {},
   "outputs": [
    {
     "name": "stdout",
     "output_type": "stream",
     "text": [
      "Boost.SH achieves 0.96 (0.93 - 0.99) AUC\n",
      "CPU times: user 1min 57s, sys: 19.9 ms, total: 1min 57s\n",
      "Wall time: 1min 57s\n"
     ]
    }
   ],
   "source": [
    "%%time\n",
    "score = cross_val_score(RBoostSH(DecisionTreeClassifier(), views, 100), views['original'], target, cv = cv, scoring = 'roc_auc', fit_params = {'edge_estimation_cv': 5}, error_score='raise')\n",
    "mean, ci = np.mean(score), 1.96 * np.std(score) / np.sqrt(cv) \n",
    "print(\"rBoost.SH achieves {:.2f} ({:.2f} - {:.2f}) AUC\".format(mean, mean - ci, mean + ci))"
   ]
  }
 ],
 "metadata": {
  "kernelspec": {
   "display_name": "Python 3.7.6 64-bit ('base': conda)",
   "language": "python",
   "name": "python37664bitbasecondab690eb5d5911413fadf9de9d41bc0271"
  },
  "language_info": {
   "codemirror_mode": {
    "name": "ipython",
    "version": 3
   },
   "file_extension": ".py",
   "mimetype": "text/x-python",
   "name": "python",
   "nbconvert_exporter": "python",
   "pygments_lexer": "ipython3",
   "version": "3.7.6"
  }
 },
 "nbformat": 4,
 "nbformat_minor": 2
}